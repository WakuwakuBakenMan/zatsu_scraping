{
 "cells": [
  {
   "cell_type": "code",
   "execution_count": 1,
   "id": "ordered-agenda",
   "metadata": {},
   "outputs": [],
   "source": [
    "import pandas as pd\n",
    "import time\n",
    "from tqdm.notebook import tqdm\n",
    "\n",
    "def scrape(race_id_list):\n",
    "    results = {}\n",
    "    for race_id in tqdm(race_id_list):\n",
    "        url = \"https://db.netkeiba.com/race/\" + race_id\n",
    "        time.sleep(1)\n",
    "        fl = race_id + \".csv\"\n",
    "        df = pd.read_html(url)[0]\n",
    "        df.to_csv(fl, encoding=\"shift-jis\")"
   ]
  },
  {
   "cell_type": "markdown",
   "id": "solar-cosmetic",
   "metadata": {},
   "source": [
    "# race_idのリストを作る\n",
    "## 特定日かつ特定レース場の全レースを取得するとき"
   ]
  },
  {
   "cell_type": "code",
   "execution_count": 2,
   "id": "direct-worthy",
   "metadata": {},
   "outputs": [],
   "source": [
    "race_id_list = []\n",
    "# 2021年(2021)\n",
    "year = 2021\n",
    "# 阪神(9)\n",
    "crs = 9\n",
    "# 2回目(2)\n",
    "kai = 2\n",
    "# 6日目(6)\n",
    "day = 6\n",
    "# 競馬場、回数、日は2桁にする必要があるので0埋め(zfill)する\n",
    "base = str(year).zfill(4) + str(crs).zfill(2) + str(kai).zfill(2) + str(day).zfill(2) \n",
    "# レース番号１～１２\n",
    "for race in range(1,13):\n",
    "    race_id = str(base) + str(race).zfill(2)\n",
    "    race_id_list.append(race_id)"
   ]
  },
  {
   "cell_type": "markdown",
   "id": "resident-moses",
   "metadata": {},
   "source": [
    "# リストの確認"
   ]
  },
  {
   "cell_type": "code",
   "execution_count": 3,
   "id": "professional-handbook",
   "metadata": {},
   "outputs": [
    {
     "data": {
      "text/plain": [
       "['202109020601',\n",
       " '202109020602',\n",
       " '202109020603',\n",
       " '202109020604',\n",
       " '202109020605',\n",
       " '202109020606',\n",
       " '202109020607',\n",
       " '202109020608',\n",
       " '202109020609',\n",
       " '202109020610',\n",
       " '202109020611',\n",
       " '202109020612']"
      ]
     },
     "execution_count": 3,
     "metadata": {},
     "output_type": "execute_result"
    }
   ],
   "source": [
    "race_id_list"
   ]
  },
  {
   "cell_type": "markdown",
   "id": "minute-omaha",
   "metadata": {},
   "source": [
    "# スクレイピング実行"
   ]
  },
  {
   "cell_type": "code",
   "execution_count": 4,
   "id": "endangered-google",
   "metadata": {},
   "outputs": [
    {
     "data": {
      "application/vnd.jupyter.widget-view+json": {
       "model_id": "5cbfe7d57a204d3981d91534a84bf2c8",
       "version_major": 2,
       "version_minor": 0
      },
      "text/plain": [
       "  0%|          | 0/12 [00:00<?, ?it/s]"
      ]
     },
     "metadata": {},
     "output_type": "display_data"
    }
   ],
   "source": [
    "scrape(race_id_list)"
   ]
  }
 ],
 "metadata": {
  "kernelspec": {
   "display_name": "Python 3",
   "language": "python",
   "name": "python3"
  },
  "language_info": {
   "codemirror_mode": {
    "name": "ipython",
    "version": 3
   },
   "file_extension": ".py",
   "mimetype": "text/x-python",
   "name": "python",
   "nbconvert_exporter": "python",
   "pygments_lexer": "ipython3",
   "version": "3.7.7"
  }
 },
 "nbformat": 4,
 "nbformat_minor": 5
}
