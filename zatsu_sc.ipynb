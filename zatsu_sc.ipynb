{
 "cells": [
  {
   "cell_type": "code",
   "execution_count": 16,
   "id": "1aac8777-2bc7-4c75-8e50-ed87721a242d",
   "metadata": {},
   "outputs": [],
   "source": [
    "import pandas as pd\n",
    "\n",
    "url = \"https://db.netkeiba.com/race/202109020611\"\n",
    "pd.read_html(url)[0].to_csv('test.csv')"
   ]
  },
  {
   "cell_type": "markdown",
   "id": "926597b9-bc03-4332-a3c4-a755825096c6",
   "metadata": {},
   "source": [
    "# レースのURL指定について\n",
    "2021：年\n",
    "09：競馬場\n",
    "02：開催２回目\n",
    "06：６日目\n",
    "11：１１レース\n",
    "\n",
    "これらの値を組み合わせることでレースを指定することができます。\n",
    "## 年\n",
    "4桁の数値\n",
    "## 競馬場\n",
    "|番号|競馬場|\n",
    "|01|札幌|\n",
    "|02|函館|\n",
    "|03|福島|\n",
    "|04|新潟|\n",
    "|05|東京|\n",
    "|06|中山|\n",
    "|07|中京|\n",
    "|08|京都|\n",
    "|09|阪神|\n",
    "|10|小倉|\n",
    "## 開催\n",
    "2桁の数値\n",
    "## 〇日目\n",
    "2桁の数値\n",
    "## レース番号\n",
    "2桁の数値\n",
    "\n",
    "特殊なのは競馬場のみで他はシンプルな数値となっています"
   ]
  }
 ],
 "metadata": {
  "kernelspec": {
   "display_name": "Python 3",
   "language": "python",
   "name": "python3"
  },
  "language_info": {
   "codemirror_mode": {
    "name": "ipython",
    "version": 3
   },
   "file_extension": ".py",
   "mimetype": "text/x-python",
   "name": "python",
   "nbconvert_exporter": "python",
   "pygments_lexer": "ipython3",
   "version": "3.7.7"
  }
 },
 "nbformat": 4,
 "nbformat_minor": 5
}
